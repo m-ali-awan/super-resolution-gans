{
 "cells": [
  {
   "cell_type": "code",
   "execution_count": 3,
   "metadata": {},
   "outputs": [],
   "source": [
    "import os\n",
    "import PIL\n",
    "from PIL import Image\n",
    "def crappify(directory_path):\n",
    "    \n",
    "    imgs_to_crappify=os.listdir(directory_path)\n",
    "    i=0\n",
    "    for filename in imgs_to_crappify:\n",
    "\n",
    "        if filename.endswith('.jpg'):\n",
    "            img=Image.open(os.path.join(directory_path,filename))\n",
    "            img_r=img.resize(size=(60,70))\n",
    "            img_r.save('images/crappified/crap/{}'.format(filename))\n",
    "            i+=1\n",
    "            \n",
    "        else:\n",
    "            print(filename)"
   ]
  },
  {
   "cell_type": "code",
   "execution_count": 4,
   "metadata": {},
   "outputs": [
    {
     "name": "stdout",
     "output_type": "stream",
     "text": [
      ".ipynb_checkpoints\n"
     ]
    }
   ],
   "source": [
    "crappify('images/super_res/real/')"
   ]
  },
  {
   "cell_type": "code",
   "execution_count": null,
   "metadata": {},
   "outputs": [],
   "source": []
  }
 ],
 "metadata": {
  "kernelspec": {
   "display_name": "conda_pytorch_p36",
   "language": "python",
   "name": "conda_pytorch_p36"
  },
  "language_info": {
   "codemirror_mode": {
    "name": "ipython",
    "version": 3
   },
   "file_extension": ".py",
   "mimetype": "text/x-python",
   "name": "python",
   "nbconvert_exporter": "python",
   "pygments_lexer": "ipython3",
   "version": "3.6.10"
  }
 },
 "nbformat": 4,
 "nbformat_minor": 4
}
